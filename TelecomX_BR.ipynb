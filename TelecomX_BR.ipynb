{
  "cells": [
    {
      "cell_type": "markdown",
      "metadata": {
        "id": "4foVEKhrlqcH"
      },
      "source": [
        "#📌 Extracão"
      ]
    },
    {
      "cell_type": "code",
      "execution_count": 3,
      "metadata": {
        "id": "1--uPM88l7JH"
      },
      "outputs": [],
      "source": [
        "import numpy as np\n",
        "import matplotlib.pyplot as plt\n",
        "import pandas as pd\n",
        "import requests\n",
        "import json\n",
        "\n",
        "url = 'https://raw.githubusercontent.com/alura-cursos/challenge2-data-science/refs/heads/main/TelecomX_Data.json'\n",
        "response = requests.get(url)\n",
        "data = response.json()\n",
        "df = pd.json_normalize(data)\n"
      ]
    },
    {
      "cell_type": "markdown",
      "metadata": {
        "id": "1lSZP8zmmGZu"
      },
      "source": [
        "#🔧 Transformação"
      ]
    },
    {
      "cell_type": "code",
      "execution_count": 5,
      "metadata": {
        "id": "bsm-WTLjmHvt",
        "colab": {
          "base_uri": "https://localhost:8080/"
        },
        "outputId": "43159ef5-d326-492c-d5d5-ac69d043d91f"
      },
      "outputs": [
        {
          "output_type": "stream",
          "name": "stdout",
          "text": [
            "Categorias da coluna \"internet.InternetService\": DSL, Fiber optic, No\n",
            "Categorias da coluna \"account.Contract\": One year, Month-to-month, Two year\n",
            "Categorias da coluna \"account.PaymentMethod\": Mailed check, Electronic check, Credit card (automatic), Bank transfer (automatic)\n"
          ]
        }
      ],
      "source": [
        "# Eu transformei as colunas que tem apenas yes/no em booleano.\n",
        "# Pesquisei antes se é uma boa alternativa e aparentemente é\n",
        "# muito melhor fazer isso pra colunas assim.\n",
        "def convert_to_int(df):\n",
        "  for col in df.columns:\n",
        "    if df[col].dropna().isin(['Yes', 'No', ' yes', ' no', 'YES', 'NO', '']).all():\n",
        "      df[col] = df[col].astype(str).str.strip().str.capitalize()\n",
        "      df[col] = df[col].replace('', np.nan)\n",
        "      df[col] = df[col].map({'Yes': 1, 'No': 0})\n",
        "      df[col] = df[col].astype('Int64')\n",
        "  return df\n",
        "\n",
        "cols = ['internet.InternetService', 'account.Contract', 'account.PaymentMethod']\n",
        "def categorizar_coluna(df):\n",
        "  resultado = []\n",
        "  for col in cols:\n",
        "    resultado.append(f'Categorias da coluna \"{col}\": {\", \".join(map(str, df[col].unique()))}')\n",
        "  return '\\n'.join(resultado)\n",
        "\n",
        "\n",
        "print(categorizar_coluna(df))\n",
        "df = convert_to_int(df)\n",
        "\n",
        "# converti a coluna em float64\n",
        "df['account.Charges.Total'] = pd.to_numeric(df['account.Charges.Total'], errors='coerce')\n",
        "# retirei da coluna churn os valores vazios\n",
        "df = df[df['Churn'] != '']\n",
        "# preenchi com o valor 0 os nan desta coluna pois sao clientes novos que\n",
        "# nao tem cobrança total ainda\n",
        "df['account.Charges.Total'] = df['account.Charges.Total'].fillna(0)\n",
        "# como solicitado no trello, adicionei uma coluna nova de cobranças diarias\n",
        "df['account.Charges.Daily'] = round(df['account.Charges.Monthly'] / (365/12), 2)\n",
        "\n",
        "# Dicionário de dados\n",
        "\n",
        "# customerID: número de identificação único de cada cliente\n",
        "# Churn: se o cliente deixou ou não a empresa\n",
        "# gender: gênero (masculino e feminino)\n",
        "# SeniorCitizen: informação sobre um cliente ter ou não idade igual ou maior que 65 anos\n",
        "# Partner: se o cliente possui ou não um parceiro ou parceira\n",
        "# Dependents: se o cliente possui ou não dependentes\n",
        "# tenure: meses de contrato do cliente\n",
        "# PhoneService: assinatura de serviço telefônico\n",
        "# MultipleLines: assisnatura de mais de uma linha de telefone\n",
        "# InternetService: assinatura de um provedor internet\n",
        "# OnlineSecurity: assinatura adicional de segurança online\n",
        "# OnlineBackup: assinatura adicional de backup online\n",
        "# DeviceProtection: assinatura adicional de proteção no dispositivo\n",
        "# TechSupport: assinatura adicional de suporte técnico, menos tempo de espera\n",
        "# StreamingTV: assinatura de TV a cabo\n",
        "# StreamingMovies: assinatura de streaming de filmes\n",
        "# Contract: tipo de contrato\n",
        "# PaperlessBilling: se o cliente prefere receber online a fatura\n",
        "# PaymentMethod: forma de pagamento\n",
        "# Charges.Monthly: total de todos os serviços do cliente por mês\n",
        "# Charges.Total: total gasto pelo cliente"
      ]
    },
    {
      "cell_type": "markdown",
      "metadata": {
        "id": "6XnTC2NTmMRL"
      },
      "source": [
        "#📊 Carga e análise"
      ]
    },
    {
      "cell_type": "code",
      "execution_count": null,
      "metadata": {
        "id": "1jgUnLqTmPdd"
      },
      "outputs": [],
      "source": []
    },
    {
      "cell_type": "markdown",
      "metadata": {
        "id": "v-WzfSvTmaw9"
      },
      "source": [
        "#📄Relatorio Final"
      ]
    },
    {
      "cell_type": "code",
      "execution_count": null,
      "metadata": {
        "id": "XMTac0YJmeK9"
      },
      "outputs": [],
      "source": []
    },
    {
      "cell_type": "code",
      "metadata": {
        "id": "cace9d60"
      },
      "source": [],
      "execution_count": null,
      "outputs": []
    }
  ],
  "metadata": {
    "colab": {
      "provenance": []
    },
    "kernelspec": {
      "display_name": "Python 3",
      "name": "python3"
    },
    "language_info": {
      "name": "python"
    }
  },
  "nbformat": 4,
  "nbformat_minor": 0
}